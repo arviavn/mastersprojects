{
 "cells": [
  {
   "cell_type": "code",
   "execution_count": 1,
   "metadata": {},
   "outputs": [],
   "source": [
    "import sys\n",
    "import pandas as pd\n",
    "import lzma\n",
    "import ast\n",
    "from pympler import asizeof\n",
    "import os"
   ]
  },
  {
   "cell_type": "code",
   "execution_count": 2,
   "metadata": {},
   "outputs": [],
   "source": [
    "def compress_message(message):\n",
    "    compressed_message = lzma.compress(message)\n",
    "    return compressed_message"
   ]
  },
  {
   "cell_type": "code",
   "execution_count": 3,
   "metadata": {},
   "outputs": [],
   "source": [
    "def decompress_message(compressed_message):\n",
    "    decompressed_message = lzma.decompress(compressed_message)\n",
    "    dic_str = str(decompressed_message).replace(\"\\\"\",\"\")[1:]\n",
    "    result = ast.literal_eval(dic_str)\n",
    "    return result"
   ]
  },
  {
   "cell_type": "code",
   "execution_count": 4,
   "metadata": {},
   "outputs": [],
   "source": [
    "def gen_adjacency_list(edges_dataframe):\n",
    "    adjlist = {}\n",
    "    start = pd.Timestamp.now()\n",
    "    for index, edge in edges_dataframe.iterrows():\n",
    "        src = edge[0]\n",
    "        trg = edge[1]\n",
    "\n",
    "        if src not in adjlist.keys():\n",
    "            adjlist[src] = {'out_vertices': [trg],\n",
    "                           'in_vertices': []}\n",
    "        else:\n",
    "            adjlist[src]['out_vertices'].append(trg)\n",
    "\n",
    "        if trg not in adjlist.keys():\n",
    "            adjlist[trg] = {'in_vertices': [src],\n",
    "                           'out_vertices': []}\n",
    "        else:\n",
    "            adjlist[trg]['in_vertices'].append(src)\n",
    "    timetaken = pd.Timestamp.now() - start\n",
    "#     print(timetaken)\n",
    "    return adjlist, timetaken"
   ]
  },
  {
   "cell_type": "code",
   "execution_count": 5,
   "metadata": {},
   "outputs": [],
   "source": [
    "def calculate_degree(adjacency_list):\n",
    "    start = pd.Timestamp.now()\n",
    "    degree = {v: {\"in\": len(adjacency_list[v]['in_vertices']), \"out\": len(adjacency_list[v]['out_vertices'])} for v in adjacency_list}\n",
    "    timetaken = pd.Timestamp.now() - start\n",
    "    return degree, timetaken"
   ]
  },
  {
   "cell_type": "code",
   "execution_count": 6,
   "metadata": {},
   "outputs": [],
   "source": [
    "def compress_adj_list(adj):\n",
    "    start = pd.Timestamp.now()    \n",
    "    compressed_adj_list = {v: compress_message(str(adj[v]).encode('utf-8')) for v in adj}\n",
    "    timetaken = pd.Timestamp.now() - start\n",
    "    cmpr_ratio = asizeof.asizeof(adj)/asizeof.asizeof(compressed_adj_list)\n",
    "    return compressed_adj_list, cmpr_ratio, timetaken"
   ]
  },
  {
   "cell_type": "code",
   "execution_count": 7,
   "metadata": {},
   "outputs": [],
   "source": [
    "def apply_lzma(edges_dataframees_dataframe, file_name):\n",
    "    report = {}\n",
    "    \n",
    "    adjacency_list,adjacency_list_tt = gen_adjacency_list(edges_dataframe)\n",
    "    \n",
    "    compressed_adjacency_list, compression_ratio, compression_time = compress_adj_list(adjacency_list)\n",
    "\n",
    "    nodes_count = len(adjacency_list)\n",
    "    in_edges_count = sum([len(adjacency_list[vertex]['in_vertices']) for vertex in adjacency_list])\n",
    "    out_edges_count = sum([len(adjacency_list[vertex]['out_vertices']) for vertex in adjacency_list])\n",
    "    \n",
    "    \n",
    "    report[file_name] = {\"graph_creation_time\" : adjacency_list_tt,\n",
    "                         \"nodes_count\" : nodes_count,\n",
    "                         \"in_edges_count\": in_edges_count,\n",
    "                         \"out_edges_count\": out_edges_count,\n",
    "                         \"compression_time\": compression_time,\n",
    "                         \"compression_ratio\": compression_ratio}\n",
    "    \n",
    "    return compressed_adjacency_list, report"
   ]
  },
  {
   "cell_type": "code",
   "execution_count": null,
   "metadata": {},
   "outputs": [
    {
     "name": "stdout",
     "output_type": "stream",
     "text": [
      "liveJournal \ttime :  0 days 00:00:16.662403\n"
     ]
    }
   ],
   "source": [
    "resulting_report = {}\n",
    "compressed_data_list = {}\n",
    "directory = \"./filestobecompressed/\"\n",
    "\n",
    "for filename in os.listdir(directory):\n",
    "    filename_without_ext = str(filename).split(\".\")[0]\n",
    "\n",
    "    start_edges_df_read = pd.Timestamp.now()    \n",
    "    edges_dataframe = pd.read_csv((directory + filename), sep= \" \",header=None, low_memory=True,)\n",
    "    timetaken_edges_df_read = pd.Timestamp.now() - start_edges_df_read\n",
    "    print(filename_without_ext, \"\\ttime : \", timetaken_edges_df_read)    \n",
    "#     print(edges_dataframe.head(10))\n",
    "    \n",
    "    compressed_adjacency_list, report = apply_lzma(edges_dataframe, filename_without_ext)\n",
    "    \n",
    "    resulting_report.update(report)\n",
    "    compressed_data_list[filename_without_ext] = compressed_adjacency_list\n",
    "    \n",
    "#     print(filename) \n",
    "#     print(filename, \"\\tlen : \", len(df[0]), \"\\ttime : \", timetaken_edges_df_read)\n",
    "#     tdic[str(filename).split(\".\")[0]] = pd.read_csv(('./second/' + filename), sep= \" \",header=None)"
   ]
  },
  {
   "cell_type": "code",
   "execution_count": null,
   "metadata": {},
   "outputs": [],
   "source": []
  }
 ],
 "metadata": {
  "kernelspec": {
   "display_name": "Python 3",
   "language": "python",
   "name": "python3"
  },
  "language_info": {
   "codemirror_mode": {
    "name": "ipython",
    "version": 3
   },
   "file_extension": ".py",
   "mimetype": "text/x-python",
   "name": "python",
   "nbconvert_exporter": "python",
   "pygments_lexer": "ipython3",
   "version": "3.7.6"
  }
 },
 "nbformat": 4,
 "nbformat_minor": 4
}
